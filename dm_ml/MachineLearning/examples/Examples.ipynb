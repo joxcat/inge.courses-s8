{
 "cells": [
  {
   "cell_type": "markdown",
   "id": "7745c2f2",
   "metadata": {},
   "source": [
    "# Examples\n",
    "\n",
    "* Complex numbers\n",
    "  * Absolute value\n",
    "* Evenly spaced numbers\n",
    "* Mean\n",
    "  * Arithmetic mean\n",
    "  * Geometric mean\n",
    "  * Harmonic mean\n",
    "* Classification"
   ]
  },
  {
   "cell_type": "markdown",
   "id": "72e9c185",
   "metadata": {},
   "source": [
    "## Complex Numbers\n",
    "\n",
    "A complex number $z$ is represented by $z = x + j* y$, where $x$ and $y$ are real numbers."
   ]
  },
  {
   "cell_type": "code",
   "execution_count": null,
   "id": "a2c075ff",
   "metadata": {},
   "outputs": [],
   "source": [
    "c1 = complex(0, 0)\n",
    "\n",
    "print(c1)"
   ]
  },
  {
   "cell_type": "code",
   "execution_count": null,
   "id": "3c22d052",
   "metadata": {},
   "outputs": [],
   "source": [
    "x = 2\n",
    "y = 3\n",
    "c2 = complex(x, y)\n",
    "\n",
    "print(c2)"
   ]
  },
  {
   "cell_type": "markdown",
   "id": "f4721a68",
   "metadata": {},
   "source": [
    "### Absolute value\n",
    "\n",
    "Absolute value of a complex number $z  = x + j* y$ is obtained by the formula $\\sqrt {(x^2 + y^2)}$"
   ]
  },
  {
   "cell_type": "code",
   "execution_count": null,
   "id": "55361d5a",
   "metadata": {},
   "outputs": [],
   "source": [
    "from math import sqrt\n",
    "\n",
    "absc2 = sqrt(x**2 + y**2)\n",
    "print(absc2)"
   ]
  },
  {
   "cell_type": "markdown",
   "id": "a55d7e4f",
   "metadata": {},
   "source": [
    "Another way is to use the function $abs()$."
   ]
  },
  {
   "cell_type": "code",
   "execution_count": null,
   "id": "fd80f3e3",
   "metadata": {},
   "outputs": [],
   "source": [
    "absc2 = abs(c2)\n",
    "print(absc2)"
   ]
  },
  {
   "cell_type": "code",
   "execution_count": null,
   "id": "a21c65b7",
   "metadata": {},
   "outputs": [],
   "source": [
    "absc1 = abs(c1)\n",
    "print(absc1)"
   ]
  },
  {
   "cell_type": "markdown",
   "id": "79020cdd",
   "metadata": {},
   "source": [
    "## Evenly spaced numbers"
   ]
  },
  {
   "cell_type": "code",
   "execution_count": null,
   "id": "a5a3fbff",
   "metadata": {},
   "outputs": [],
   "source": [
    "import numpy as np\n",
    "\n",
    "np.linspace(1.0, 5.0, num=5)"
   ]
  },
  {
   "cell_type": "code",
   "execution_count": null,
   "id": "237c0856",
   "metadata": {},
   "outputs": [],
   "source": [
    "import numpy as np\n",
    "\n",
    "np.linspace(1.0, 5.0, num=10)"
   ]
  },
  {
   "cell_type": "markdown",
   "id": "d8afff45",
   "metadata": {},
   "source": [
    "# Mean"
   ]
  },
  {
   "cell_type": "markdown",
   "id": "cad1e7ed",
   "metadata": {},
   "source": [
    "## Arithmetic mean"
   ]
  },
  {
   "cell_type": "markdown",
   "id": "e176c2e9",
   "metadata": {},
   "source": [
    "If  $a_1, a_2, \\ldots, a_n$ are numbers, then the arithmetic mean is obtained by: \n",
    "\n",
    "$$A=\\frac{1}{n}\\sum_{i=1}^n a_i=\\frac{a_1+a_2+\\cdots+a_n}{n}$$"
   ]
  },
  {
   "cell_type": "code",
   "execution_count": null,
   "id": "85b81b4e",
   "metadata": {},
   "outputs": [],
   "source": [
    "num = np.linspace(1.0, 100.0, num=100)\n",
    "\n",
    "a = np.mean(num)\n",
    "print(a)"
   ]
  },
  {
   "cell_type": "markdown",
   "id": "a1e9048f",
   "metadata": {},
   "source": [
    "## Geometric Mean"
   ]
  },
  {
   "cell_type": "markdown",
   "id": "b98dcd67",
   "metadata": {},
   "source": [
    "If  $a_1, a_2, \\ldots, a_n$ are numbers, then the arithmetic mean is obtained by: \n",
    "\n",
    "$$\\left(\\prod_{i=1}^n a_i\\right)^\\frac{1}{n} = \\sqrt[n]{a_1 a_2 \\cdots a_n}$$"
   ]
  },
  {
   "cell_type": "code",
   "execution_count": null,
   "id": "4d6f19fa",
   "metadata": {},
   "outputs": [],
   "source": [
    "from scipy.stats import gmean\n",
    "\n",
    "g = gmean(num)\n",
    "print(g)"
   ]
  },
  {
   "cell_type": "markdown",
   "id": "d6e6f3de",
   "metadata": {},
   "source": [
    "## Harmonic Mean"
   ]
  },
  {
   "cell_type": "markdown",
   "id": "e37c4706",
   "metadata": {},
   "source": [
    "If  $a_1, a_2, \\ldots, a_n$ are numbers, then the harmonic mean is obtained by: \n",
    "\n",
    "$$H = \\frac{n}{\\frac1{a_1} + \\frac1{a_2} + \\cdots + \\frac1{a_n}} = \\frac{n}{\\sum\\limits_{i=1}^n \\frac1{a_i}} = \\left(\\frac{\\sum\\limits_{i=1}^n a_i^{-1}}{n}\\right)^{-1}.$$"
   ]
  },
  {
   "cell_type": "code",
   "execution_count": null,
   "id": "2ba017ce",
   "metadata": {},
   "outputs": [],
   "source": [
    "from scipy.stats import hmean\n",
    "\n",
    "h = hmean(num)\n",
    "print(h)"
   ]
  },
  {
   "cell_type": "markdown",
   "id": "79b5fa9f",
   "metadata": {},
   "source": [
    "# Classification"
   ]
  },
  {
   "cell_type": "markdown",
   "id": "1016d431",
   "metadata": {},
   "source": [
    "## Understanding IRIS dataset"
   ]
  },
  {
   "cell_type": "code",
   "execution_count": null,
   "id": "6a6ded12",
   "metadata": {},
   "outputs": [],
   "source": [
    "from sklearn.datasets import load_iris\n",
    "\n",
    "data = load_iris()\n",
    "\n",
    "# Target Classes and Names\n",
    "for target, name in enumerate(data.target_names):\n",
    "    print(target, name)"
   ]
  },
  {
   "cell_type": "code",
   "execution_count": null,
   "id": "fd47b004",
   "metadata": {},
   "outputs": [],
   "source": [
    "# Features\n",
    "for feature in data.feature_names:\n",
    "    print(feature)"
   ]
  },
  {
   "cell_type": "code",
   "execution_count": null,
   "id": "261d9491",
   "metadata": {},
   "outputs": [],
   "source": [
    "X = data.data\n",
    "Y = data.target\n",
    "\n",
    "print(f\"Data size: {len(X)}\")"
   ]
  },
  {
   "cell_type": "code",
   "execution_count": null,
   "id": "0615e7e4",
   "metadata": {},
   "outputs": [],
   "source": [
    "# Printing the data\n",
    "\n",
    "for x, y in zip(X, Y):\n",
    "    print(f\" {x}: {y} ({data.target_names[y]})\")"
   ]
  },
  {
   "cell_type": "code",
   "execution_count": null,
   "id": "51f95e2c",
   "metadata": {},
   "outputs": [],
   "source": [
    "from sklearn.model_selection import train_test_split\n",
    "\n",
    "# Random state ensures reproducibility\n",
    "X_train, X_test, Y_train, Y_test = train_test_split(\n",
    "    X, Y, test_size=0.33, random_state=42\n",
    ")\n",
    "\n",
    "print(f\"Training data size: {len(X_train)}\")\n",
    "print(f\"Test data size: {len(X_test)}\")"
   ]
  },
  {
   "cell_type": "code",
   "execution_count": null,
   "id": "4e1cdd72",
   "metadata": {},
   "outputs": [],
   "source": [
    "from sklearn.metrics import ConfusionMatrixDisplay\n",
    "import matplotlib.pyplot as plot\n",
    "\n",
    "\n",
    "def display_confusion_matrix(classifier, title):\n",
    "    disp = ConfusionMatrixDisplay.from_estimator(\n",
    "        classifier,\n",
    "        X_test,\n",
    "        Y_test,\n",
    "        display_labels=data.target_names,\n",
    "        cmap=plot.cm.Blues,\n",
    "        normalize=\"true\",\n",
    "    )\n",
    "    disp.ax_.set_title(title)\n",
    "    plot.show()"
   ]
  },
  {
   "cell_type": "code",
   "execution_count": null,
   "id": "d0f4768e",
   "metadata": {},
   "outputs": [],
   "source": [
    "## Classifier\n",
    "from sklearn import svm, metrics\n",
    "\n",
    "for kernel in [\"linear\", \"rbf\", \"poly\"]:\n",
    "    print(\"\")\n",
    "    classifier = svm.SVC(kernel=kernel, gamma=10)\n",
    "    classifier.fit(X_train, Y_train)\n",
    "\n",
    "    predicted_values = classifier.predict(X_test.reshape((X_test.shape[0], -1)))\n",
    "\n",
    "    # classification report\n",
    "    title = \"SVM classifier with\" + kernel + \" kernel\"\n",
    "    print(metrics.classification_report(Y_test, predicted_values))\n",
    "    display_confusion_matrix(classifier, title)"
   ]
  },
  {
   "cell_type": "markdown",
   "id": "3bbb7c56",
   "metadata": {},
   "source": [
    "## References\n",
    "\n",
    "* [Animate Your Own Fractals in Python with Matplotlib](https://matplotlib.org/matplotblog/posts/animated-fractals/)\n",
    "* [Arithmetic mean](https://en.wikipedia.org/wiki/Arithmetic_mean)\n",
    "* [Geometric mean](https://en.wikipedia.org/wiki/Geometric_mean)\n",
    "* [Harmonic mean](https://en.wikipedia.org/wiki/Harmonic_mean)\n",
    "* [Predicting sample size required for classification performance](https://bmcmedinformdecismak.biomedcentral.com/articles/10.1186/1472-6947-12-8)\n",
    "* [Cross entropy](https://en.wikipedia.org/wiki/Cross_entropy)\n",
    "* [A Gentle Introduction to Cross-Entropy for Machine Learning](https://machinelearningmastery.com/cross-entropy-for-machine-learning/)\n",
    "* [Gradient Descent, the Learning Rate, and the importance of Feature Scaling](https://towardsdatascience.com/gradient-descent-the-learning-rate-and-the-importance-of-feature-scaling-6c0b416596e1)\n",
    "* [Why is mean normalization useful in gradient descent?](https://stats.stackexchange.com/questions/315027/why-is-mean-normalization-useful-in-gradient-descent)\n",
    "* [Feature scaling](https://en.wikipedia.org/wiki/Feature_scaling)\n",
    "* [Normalizing your data (specifically, input and batch normalization)](https://www.jeremyjordan.me/batch-normalization/)"
   ]
  },
  {
   "cell_type": "code",
   "execution_count": null,
   "id": "e01815cb",
   "metadata": {},
   "outputs": [],
   "source": []
  }
 ],
 "metadata": {
  "kernelspec": {
   "display_name": "Python 3",
   "language": "python",
   "name": "python3"
  },
  "language_info": {
   "codemirror_mode": {
    "name": "ipython",
    "version": 3
   },
   "file_extension": ".py",
   "mimetype": "text/x-python",
   "name": "python",
   "nbconvert_exporter": "python",
   "pygments_lexer": "ipython3",
   "version": "3.10.6"
  }
 },
 "nbformat": 4,
 "nbformat_minor": 5
}
